{
 "cells": [
  {
   "cell_type": "markdown",
   "metadata": {},
   "source": [
    "## 1.1 Write a Python Program to implement your own myreduce() function which works exactly like Python's built-in function reduce()"
   ]
  },
  {
   "cell_type": "code",
   "execution_count": 48,
   "metadata": {},
   "outputs": [
    {
     "name": "stdout",
     "output_type": "stream",
     "text": [
      "myreduce function: 768\n",
      "reduce function: 768\n"
     ]
    }
   ],
   "source": [
    "def myreduce(function,iterable):\n",
    "    a=iterable[0]\n",
    "    for i in iterable[1:]:\n",
    "        a= function(a,i)\n",
    "    return a\n",
    "\n",
    "l=[2,48,8]\n",
    "multiply=lambda x,y : x*y\n",
    "print(\"myreduce function: \"+str(myreduce(multiply,l)))#function which i created\n",
    "print(\"reduce function: \"+str(reduce(multiply,l)))# inbuit function"
   ]
  },
  {
   "cell_type": "markdown",
   "metadata": {},
   "source": [
    "## 1.2 Write a Python program to implement your own myfilter() function which works exactly like Python's built-in function filter()"
   ]
  },
  {
   "cell_type": "code",
   "execution_count": 52,
   "metadata": {},
   "outputs": [],
   "source": [
    "def myfilter(function,iterable):\n",
    "    l=[]\n",
    "    for i in iterable:\n",
    "        if function(i):\n",
    "            l.append(i)\n",
    "    return l"
   ]
  },
  {
   "cell_type": "code",
   "execution_count": 53,
   "metadata": {},
   "outputs": [
    {
     "name": "stdout",
     "output_type": "stream",
     "text": [
      "Result for custom function:  [0, 2, 4, 6, 8, 10, 12, 14]\n",
      "Result for inbuilt function: [0, 2, 4, 6, 8, 10, 12, 14]\n"
     ]
    }
   ],
   "source": [
    "from functools import reduce\n",
    "function = lambda x: x%2==0\n",
    "my_list = range(15)\n",
    "\n",
    "result_custom = myfilter(function,my_list)\n",
    "print(f'Result for custom function:  {result_custom}')\n",
    "\n",
    "result_inbuilt = list(filter(function,my_list))\n",
    "print(f'Result for inbuilt function: {result_inbuilt}')"
   ]
  },
  {
   "cell_type": "markdown",
   "metadata": {},
   "source": [
    "### 2.\n",
    "Implement List comprehensions to produce the following lists.\n",
    "\n",
    "Write List comprehensions to produce the following Lists ['A', 'C', 'A', 'D', 'G', 'I', ’L’, ‘ D’]\n",
    "\n",
    "['x', 'xx', 'xxx', 'xxxx', 'y', 'yy', 'yyy', 'yyyy', 'z', 'zz', 'zzz', 'zzzz']\n",
    "\n",
    "['x', 'y', 'z', 'xx', 'yy', 'zz', 'xx', 'yy', 'zz', 'xxxx', 'yyyy', 'zzzz']\n",
    "\n",
    "[[2], [3], [4], [3], [4], [5], [4], [5], [6]]\n",
    "\n",
    "[[2, 3, 4, 5], [3, 4, 5, 6], [4, 5, 6, 7], [5, 6, 7, 8]]\n",
    "\n",
    "[(1, 1), (2, 1), (3, 1), (1, 2), (2, 2), (3, 2), (1, 3), (2, 3), (3, 3)]"
   ]
  },
  {
   "cell_type": "code",
   "execution_count": 90,
   "metadata": {},
   "outputs": [
    {
     "name": "stdout",
     "output_type": "stream",
     "text": [
      "['A', 'C', 'A', 'D', 'G', 'I', 'L', 'D'] \n",
      "\n",
      "['', 'x', 'xx', 'xxx', 'xxxx', '', 'y', 'yy', 'yyy', 'yyyy', '', 'z', 'zz', 'zzz', 'zzzz'] \n",
      "\n",
      "['x', 'y', 'z', 'xx', 'yy', 'zz', 'xxx', 'yyy', 'zzz', 'xxxx', 'yyyy', 'zzzz'] \n",
      "\n",
      "[[2], [3], [4], [3], [4], [5], [4], [5], [6]] \n",
      "\n",
      "[[2, 3, 4, 5], [3, 4, 5, 6], [4, 5, 6, 7], [5, 6, 7, 8]] \n",
      "\n",
      "[(1, 1), (1, 2), (1, 3), (2, 1), (2, 2), (2, 3), (3, 1), (3, 2), (3, 3)]\n"
     ]
    }
   ],
   "source": [
    "print([i for i in \"ACADGILD\"],\"\\n\")\n",
    "\n",
    "print([i*j for i in \"xyz\" for j in range(0,5)],\"\\n\")\n",
    "\n",
    "print([i*j for i in range(1,5) for j in 'xyz'],\"\\n\")\n",
    "\n",
    "print([[i] for i in [2,3,4,3,4,5,4,5,6]],\"\\n\")\n",
    "\n",
    "print([[i,i+1,i+2,i+3] for i in range(2,6)],\"\\n\")\n",
    "\n",
    "print([(i,j) for i in range(1,4) for j in range(1,4)])"
   ]
  },
  {
   "cell_type": "code",
   "execution_count": null,
   "metadata": {},
   "outputs": [],
   "source": []
  }
 ],
 "metadata": {
  "kernelspec": {
   "display_name": "Python 3",
   "language": "python",
   "name": "python3"
  },
  "language_info": {
   "codemirror_mode": {
    "name": "ipython",
    "version": 3
   },
   "file_extension": ".py",
   "mimetype": "text/x-python",
   "name": "python",
   "nbconvert_exporter": "python",
   "pygments_lexer": "ipython3",
   "version": "3.7.3"
  }
 },
 "nbformat": 4,
 "nbformat_minor": 2
}
